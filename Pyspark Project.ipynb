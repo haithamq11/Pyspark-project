{
 "cells": [
  {
   "cell_type": "code",
   "execution_count": 1,
   "id": "de58f9ac",
   "metadata": {},
   "outputs": [],
   "source": [
    "# import the pyspark\n",
    "\n",
    "from pyspark.sql import SparkSession"
   ]
  },
  {
   "cell_type": "code",
   "execution_count": 4,
   "id": "624f33c8",
   "metadata": {},
   "outputs": [
    {
     "name": "stderr",
     "output_type": "stream",
     "text": [
      "Setting default log level to \"WARN\".\n",
      "To adjust logging level use sc.setLogLevel(newLevel). For SparkR, use setLogLevel(newLevel).\n"
     ]
    },
    {
     "name": "stdout",
     "output_type": "stream",
     "text": [
      "22/07/17 01:47:50 WARN NativeCodeLoader: Unable to load native-hadoop library for your platform... using builtin-java classes where applicable\n"
     ]
    }
   ],
   "source": [
    "spark = SparkSession.builder.appName('LinearRegression').getOrCreate()"
   ]
  },
  {
   "cell_type": "code",
   "execution_count": 5,
   "id": "df863068",
   "metadata": {},
   "outputs": [
    {
     "name": "stderr",
     "output_type": "stream",
     "text": [
      "\r",
      "[Stage 0:>                                                          (0 + 1) / 1]\r",
      "\r",
      "                                                                                \r"
     ]
    }
   ],
   "source": [
    "#loading dataset 'tips'\n",
    "df = spark.read.csv('tips.csv', header=True, inferSchema=True)"
   ]
  },
  {
   "cell_type": "code",
   "execution_count": 6,
   "id": "bfae221a",
   "metadata": {},
   "outputs": [
    {
     "name": "stdout",
     "output_type": "stream",
     "text": [
      "+----------+----+------+------+---+------+----+\n",
      "|total_bill| tip|   sex|smoker|day|  time|size|\n",
      "+----------+----+------+------+---+------+----+\n",
      "|     16.99|1.01|Female|    No|Sun|Dinner|   2|\n",
      "|     10.34|1.66|  Male|    No|Sun|Dinner|   3|\n",
      "|     21.01| 3.5|  Male|    No|Sun|Dinner|   3|\n",
      "|     23.68|3.31|  Male|    No|Sun|Dinner|   2|\n",
      "|     24.59|3.61|Female|    No|Sun|Dinner|   4|\n",
      "|     25.29|4.71|  Male|    No|Sun|Dinner|   4|\n",
      "|      8.77| 2.0|  Male|    No|Sun|Dinner|   2|\n",
      "|     26.88|3.12|  Male|    No|Sun|Dinner|   4|\n",
      "|     15.04|1.96|  Male|    No|Sun|Dinner|   2|\n",
      "|     14.78|3.23|  Male|    No|Sun|Dinner|   2|\n",
      "|     10.27|1.71|  Male|    No|Sun|Dinner|   2|\n",
      "|     35.26| 5.0|Female|    No|Sun|Dinner|   4|\n",
      "|     15.42|1.57|  Male|    No|Sun|Dinner|   2|\n",
      "|     18.43| 3.0|  Male|    No|Sun|Dinner|   4|\n",
      "|     14.83|3.02|Female|    No|Sun|Dinner|   2|\n",
      "|     21.58|3.92|  Male|    No|Sun|Dinner|   2|\n",
      "|     10.33|1.67|Female|    No|Sun|Dinner|   3|\n",
      "|     16.29|3.71|  Male|    No|Sun|Dinner|   3|\n",
      "|     16.97| 3.5|Female|    No|Sun|Dinner|   3|\n",
      "|     20.65|3.35|  Male|    No|Sat|Dinner|   3|\n",
      "+----------+----+------+------+---+------+----+\n",
      "only showing top 20 rows\n",
      "\n"
     ]
    }
   ],
   "source": [
    "# print the dataframe\n",
    "df.show()"
   ]
  },
  {
   "cell_type": "code",
   "execution_count": 7,
   "id": "6005d33e",
   "metadata": {},
   "outputs": [
    {
     "name": "stdout",
     "output_type": "stream",
     "text": [
      "root\n",
      " |-- total_bill: double (nullable = true)\n",
      " |-- tip: double (nullable = true)\n",
      " |-- sex: string (nullable = true)\n",
      " |-- smoker: string (nullable = true)\n",
      " |-- day: string (nullable = true)\n",
      " |-- time: string (nullable = true)\n",
      " |-- size: integer (nullable = true)\n",
      "\n"
     ]
    }
   ],
   "source": [
    "# print the schema of df\n",
    "df.printSchema()"
   ]
  },
  {
   "cell_type": "code",
   "execution_count": 8,
   "id": "548b39a0",
   "metadata": {},
   "outputs": [
    {
     "data": {
      "text/plain": [
       "['total_bill', 'tip', 'sex', 'smoker', 'day', 'time', 'size']"
      ]
     },
     "execution_count": 8,
     "metadata": {},
     "output_type": "execute_result"
    }
   ],
   "source": [
    "# check columns\n",
    "df.columns"
   ]
  },
  {
   "cell_type": "markdown",
   "id": "7ca3d914",
   "metadata": {},
   "source": [
    "There are three categorical columns 'sex','smoker','day'and 'time'\n",
    "we need to convert it to numerical values"
   ]
  },
  {
   "cell_type": "code",
   "execution_count": 9,
   "id": "026922ef",
   "metadata": {},
   "outputs": [
    {
     "name": "stderr",
     "output_type": "stream",
     "text": [
      "                                                                                \r"
     ]
    },
    {
     "name": "stdout",
     "output_type": "stream",
     "text": [
      "+----------+----+------+------+---+------+----+-----+--------+-----+------+\n",
      "|total_bill| tip|   sex|smoker|day|  time|size|n_sex|n_smoker|n_day|n_time|\n",
      "+----------+----+------+------+---+------+----+-----+--------+-----+------+\n",
      "|     16.99|1.01|Female|    No|Sun|Dinner|   2|  1.0|     0.0|  1.0|   0.0|\n",
      "|     10.34|1.66|  Male|    No|Sun|Dinner|   3|  0.0|     0.0|  1.0|   0.0|\n",
      "|     21.01| 3.5|  Male|    No|Sun|Dinner|   3|  0.0|     0.0|  1.0|   0.0|\n",
      "|     23.68|3.31|  Male|    No|Sun|Dinner|   2|  0.0|     0.0|  1.0|   0.0|\n",
      "|     24.59|3.61|Female|    No|Sun|Dinner|   4|  1.0|     0.0|  1.0|   0.0|\n",
      "|     25.29|4.71|  Male|    No|Sun|Dinner|   4|  0.0|     0.0|  1.0|   0.0|\n",
      "|      8.77| 2.0|  Male|    No|Sun|Dinner|   2|  0.0|     0.0|  1.0|   0.0|\n",
      "|     26.88|3.12|  Male|    No|Sun|Dinner|   4|  0.0|     0.0|  1.0|   0.0|\n",
      "|     15.04|1.96|  Male|    No|Sun|Dinner|   2|  0.0|     0.0|  1.0|   0.0|\n",
      "|     14.78|3.23|  Male|    No|Sun|Dinner|   2|  0.0|     0.0|  1.0|   0.0|\n",
      "|     10.27|1.71|  Male|    No|Sun|Dinner|   2|  0.0|     0.0|  1.0|   0.0|\n",
      "|     35.26| 5.0|Female|    No|Sun|Dinner|   4|  1.0|     0.0|  1.0|   0.0|\n",
      "|     15.42|1.57|  Male|    No|Sun|Dinner|   2|  0.0|     0.0|  1.0|   0.0|\n",
      "|     18.43| 3.0|  Male|    No|Sun|Dinner|   4|  0.0|     0.0|  1.0|   0.0|\n",
      "|     14.83|3.02|Female|    No|Sun|Dinner|   2|  1.0|     0.0|  1.0|   0.0|\n",
      "|     21.58|3.92|  Male|    No|Sun|Dinner|   2|  0.0|     0.0|  1.0|   0.0|\n",
      "|     10.33|1.67|Female|    No|Sun|Dinner|   3|  1.0|     0.0|  1.0|   0.0|\n",
      "|     16.29|3.71|  Male|    No|Sun|Dinner|   3|  0.0|     0.0|  1.0|   0.0|\n",
      "|     16.97| 3.5|Female|    No|Sun|Dinner|   3|  1.0|     0.0|  1.0|   0.0|\n",
      "|     20.65|3.35|  Male|    No|Sat|Dinner|   3|  0.0|     0.0|  0.0|   0.0|\n",
      "+----------+----+------+------+---+------+----+-----+--------+-----+------+\n",
      "only showing top 20 rows\n",
      "\n"
     ]
    }
   ],
   "source": [
    "# import StringIndexer for handling categorical features\n",
    "\n",
    "from pyspark.ml.feature import StringIndexer\n",
    "indexer = StringIndexer(inputCols=['sex','smoker','day','time'],outputCols=['n_sex','n_smoker','n_day','n_time'])\n",
    "new_df = indexer.fit(df).transform(df)\n",
    "new_df.show()"
   ]
  },
  {
   "cell_type": "code",
   "execution_count": 10,
   "id": "d7c2e4e1",
   "metadata": {},
   "outputs": [
    {
     "data": {
      "text/plain": [
       "['total_bill',\n",
       " 'tip',\n",
       " 'sex',\n",
       " 'smoker',\n",
       " 'day',\n",
       " 'time',\n",
       " 'size',\n",
       " 'n_sex',\n",
       " 'n_smoker',\n",
       " 'n_day',\n",
       " 'n_time']"
      ]
     },
     "execution_count": 10,
     "metadata": {},
     "output_type": "execute_result"
    }
   ],
   "source": [
    "new_df.columns"
   ]
  },
  {
   "cell_type": "code",
   "execution_count": 11,
   "id": "a9bde4ff",
   "metadata": {},
   "outputs": [],
   "source": [
    "# select the independent feature and group them together\n",
    "from pyspark.ml.feature import VectorAssembler\n",
    "featureassembler = VectorAssembler(inputCols=['tip','size','n_sex','n_smoker','n_day','n_time'],\n",
    "                                   outputCol='Independent features')\n",
    "\n",
    "output = featureassembler.transform(new_df)"
   ]
  },
  {
   "cell_type": "code",
   "execution_count": 12,
   "id": "916b1c61",
   "metadata": {},
   "outputs": [
    {
     "name": "stdout",
     "output_type": "stream",
     "text": [
      "+--------------------+\n",
      "|Independent features|\n",
      "+--------------------+\n",
      "|[1.01,2.0,1.0,0.0...|\n",
      "|[1.66,3.0,0.0,0.0...|\n",
      "|[3.5,3.0,0.0,0.0,...|\n",
      "|[3.31,2.0,0.0,0.0...|\n",
      "|[3.61,4.0,1.0,0.0...|\n",
      "|[4.71,4.0,0.0,0.0...|\n",
      "|[2.0,2.0,0.0,0.0,...|\n",
      "|[3.12,4.0,0.0,0.0...|\n",
      "|[1.96,2.0,0.0,0.0...|\n",
      "|[3.23,2.0,0.0,0.0...|\n",
      "|[1.71,2.0,0.0,0.0...|\n",
      "|[5.0,4.0,1.0,0.0,...|\n",
      "|[1.57,2.0,0.0,0.0...|\n",
      "|[3.0,4.0,0.0,0.0,...|\n",
      "|[3.02,2.0,1.0,0.0...|\n",
      "|[3.92,2.0,0.0,0.0...|\n",
      "|[1.67,3.0,1.0,0.0...|\n",
      "|[3.71,3.0,0.0,0.0...|\n",
      "|[3.5,3.0,1.0,0.0,...|\n",
      "|(6,[0,1],[3.35,3.0])|\n",
      "+--------------------+\n",
      "only showing top 20 rows\n",
      "\n"
     ]
    }
   ],
   "source": [
    "output.select('Independent features').show()"
   ]
  },
  {
   "cell_type": "code",
   "execution_count": 13,
   "id": "58dc1f3a",
   "metadata": {},
   "outputs": [
    {
     "name": "stdout",
     "output_type": "stream",
     "text": [
      "+--------------------+----------+\n",
      "|Independent features|total_bill|\n",
      "+--------------------+----------+\n",
      "|[1.01,2.0,1.0,0.0...|     16.99|\n",
      "|[1.66,3.0,0.0,0.0...|     10.34|\n",
      "|[3.5,3.0,0.0,0.0,...|     21.01|\n",
      "|[3.31,2.0,0.0,0.0...|     23.68|\n",
      "|[3.61,4.0,1.0,0.0...|     24.59|\n",
      "|[4.71,4.0,0.0,0.0...|     25.29|\n",
      "|[2.0,2.0,0.0,0.0,...|      8.77|\n",
      "|[3.12,4.0,0.0,0.0...|     26.88|\n",
      "|[1.96,2.0,0.0,0.0...|     15.04|\n",
      "|[3.23,2.0,0.0,0.0...|     14.78|\n",
      "|[1.71,2.0,0.0,0.0...|     10.27|\n",
      "|[5.0,4.0,1.0,0.0,...|     35.26|\n",
      "|[1.57,2.0,0.0,0.0...|     15.42|\n",
      "|[3.0,4.0,0.0,0.0,...|     18.43|\n",
      "|[3.02,2.0,1.0,0.0...|     14.83|\n",
      "|[3.92,2.0,0.0,0.0...|     21.58|\n",
      "|[1.67,3.0,1.0,0.0...|     10.33|\n",
      "|[3.71,3.0,0.0,0.0...|     16.29|\n",
      "|[3.5,3.0,1.0,0.0,...|     16.97|\n",
      "|(6,[0,1],[3.35,3.0])|     20.65|\n",
      "+--------------------+----------+\n",
      "only showing top 20 rows\n",
      "\n"
     ]
    }
   ],
   "source": [
    "# select independent and dependent columns\n",
    "final_df = output.select(['Independent features', 'total_bill'])\n",
    "final_df.show()"
   ]
  },
  {
   "cell_type": "code",
   "execution_count": 21,
   "id": "e1416dee",
   "metadata": {},
   "outputs": [
    {
     "name": "stdout",
     "output_type": "stream",
     "text": [
      "22/07/17 02:33:09 WARN Instrumentation: [c1fdfd45] regParam is zero, which might cause numerical instability and overfitting.\n"
     ]
    }
   ],
   "source": [
    "# Import LinearRegression\n",
    "\n",
    "from pyspark.ml.regression import LinearRegression\n",
    "\n",
    "train_data,test_data = final_df.randomSplit([0.75,0.25])\n",
    "reg = LinearRegression(featuresCol='Independent features',labelCol='total_bill')\n",
    "reg_train = reg.fit(train_data)"
   ]
  },
  {
   "cell_type": "code",
   "execution_count": 22,
   "id": "6e0a10e7",
   "metadata": {},
   "outputs": [
    {
     "data": {
      "text/plain": [
       "DenseVector([3.0952, 3.5902, 0.2815, 2.3743, -0.556, -0.0408])"
      ]
     },
     "execution_count": 22,
     "metadata": {},
     "output_type": "execute_result"
    }
   ],
   "source": [
    "reg_train.coefficients"
   ]
  },
  {
   "cell_type": "code",
   "execution_count": 23,
   "id": "2418fe17",
   "metadata": {},
   "outputs": [
    {
     "data": {
      "text/plain": [
       "0.6081708404376609"
      ]
     },
     "execution_count": 23,
     "metadata": {},
     "output_type": "execute_result"
    }
   ],
   "source": [
    "reg_train.intercept"
   ]
  },
  {
   "cell_type": "code",
   "execution_count": 24,
   "id": "8575e91c",
   "metadata": {},
   "outputs": [],
   "source": [
    "# Prediction\n",
    "\n",
    "pred = reg_train.evaluate(test_data)"
   ]
  },
  {
   "cell_type": "code",
   "execution_count": 25,
   "id": "423cbc69",
   "metadata": {},
   "outputs": [
    {
     "name": "stdout",
     "output_type": "stream",
     "text": [
      "+--------------------+----------+------------------+\n",
      "|Independent features|total_bill|        prediction|\n",
      "+--------------------+----------+------------------+\n",
      "|(6,[0,1],[1.25,2.0])|     10.51| 11.65769422796822|\n",
      "|(6,[0,1],[1.47,2.0])|     10.77|12.338642925817396|\n",
      "|(6,[0,1],[2.01,2.0])|     20.23|14.010062456901737|\n",
      "|(6,[0,1],[2.31,3.0])|     18.69|18.528877210662554|\n",
      "| (6,[0,1],[3.0,4.0])|     20.45|24.254828292428726|\n",
      "|(6,[0,1],[3.15,3.0])|     20.08|21.128863147904866|\n",
      "|(6,[0,1],[3.18,2.0])|     19.82|17.631471440917817|\n",
      "| (6,[0,1],[5.0,3.0])|     31.27| 26.85502265254567|\n",
      "|(6,[0,1],[5.92,3.0])|     29.03| 29.70262629809677|\n",
      "|[1.0,2.0,1.0,1.0,...|      5.75|11.871691145041417|\n",
      "|[1.5,2.0,0.0,1.0,...|     11.59|14.805760412963254|\n",
      "|[1.5,2.0,1.0,0.0,...|      8.35|11.560211374859213|\n",
      "|[1.63,2.0,1.0,0.0...|     11.87|11.962590150860999|\n",
      "|[1.71,2.0,0.0,0.0...|     10.27| 12.52550142039647|\n",
      "|[1.98,2.0,0.0,1.0...|     11.02|16.291466662816003|\n",
      "|[2.0,2.0,0.0,0.0,...|     13.03|12.826296751739143|\n",
      "|[2.0,2.0,0.0,0.0,...|     15.95|12.826296751739143|\n",
      "|[2.0,2.0,0.0,1.0,...|     17.89|  15.7973764595459|\n",
      "|[2.0,2.0,0.0,1.0,...|     10.34|15.200557598269205|\n",
      "|[2.0,2.0,1.0,1.0,...|     10.63| 16.63489638994322|\n",
      "+--------------------+----------+------------------+\n",
      "only showing top 20 rows\n",
      "\n"
     ]
    }
   ],
   "source": [
    "pred.predictions.show()"
   ]
  },
  {
   "cell_type": "code",
   "execution_count": 26,
   "id": "c487a39c",
   "metadata": {},
   "outputs": [
    {
     "data": {
      "text/plain": [
       "(0.42586360457168304, 4.6976807338222715, 38.97004654967041)"
      ]
     },
     "execution_count": 26,
     "metadata": {},
     "output_type": "execute_result"
    }
   ],
   "source": [
    "# Performance metric\n",
    "pred.r2, pred.meanAbsoluteError, pred.meanSquaredError"
   ]
  }
 ],
 "metadata": {
  "kernelspec": {
   "display_name": "Python 3 (ipykernel)",
   "language": "python",
   "name": "python3"
  },
  "language_info": {
   "codemirror_mode": {
    "name": "ipython",
    "version": 3
   },
   "file_extension": ".py",
   "mimetype": "text/x-python",
   "name": "python",
   "nbconvert_exporter": "python",
   "pygments_lexer": "ipython3",
   "version": "3.7.13"
  }
 },
 "nbformat": 4,
 "nbformat_minor": 5
}
